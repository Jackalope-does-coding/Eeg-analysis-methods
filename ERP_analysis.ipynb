{
 "cells": [
  {
   "cell_type": "code",
   "execution_count": null,
   "id": "cf74c1d1-9eb2-46dd-9676-2b1c469d9583",
   "metadata": {},
   "outputs": [],
   "source": [
    "\"\"\"\n",
    "remember, if your file path has backslashes where spaces are because you pasted it from terminal, remove those!!\n",
    "\n",
    "For the psychopy csv:\n",
    "\"Stimulus\" is the name of the csv column for event type\n",
    "\"Marker Timestamp\" is the name of the csv column for when the event occured\n",
    "The names should be changed in the code or in the csv if different names are being used\n",
    "\n",
    "For the following lines of code:\n",
    "eeg_df = pd.read_csv(\"/Users/username/Desktop/folder/eegfilename.csv\")  #put the file path to your eeg csv here\n",
    "beh_raw = pd.read_csv(\"/Users/username/Desktop/folder/psychopyfilename.csv\") #put the filepath to your psychopy csv here\n",
    "the filepaths written inside the \"\" should be replaced with the actual filepaths to your csv data\n",
    "\n",
    "\"\"\""
   ]
  },
  {
   "cell_type": "code",
   "execution_count": null,
   "id": "f408a20d-3edb-44db-9315-28b60f665a59",
   "metadata": {},
   "outputs": [],
   "source": [
    "pip install mne seaborn bokeh\n"
   ]
  },
  {
   "cell_type": "code",
   "execution_count": null,
   "id": "f36658da-db85-483c-97e3-2808305809cd",
   "metadata": {},
   "outputs": [],
   "source": [
    "import pandas as pd\n",
    "import numpy as np\n",
    "import mne\n",
    "import matplotlib.pyplot as plt\n",
    "import seaborn as sns\n",
    "from bokeh.plotting import output_notebook\n",
    "sns.set_style(\"darkgrid\")\n",
    "output_notebook()\n"
   ]
  },
  {
   "cell_type": "code",
   "execution_count": 22,
   "id": "cc168541-958c-4e8f-8ecc-57dc9e9437ee",
   "metadata": {},
   "outputs": [],
   "source": [
    "class ERPRecording:\n",
    "\n",
    "    def __init__(self, eeg_df, behav_df, tmin=-0.2, tmax=1.0, sfreq=256):\n",
    "        self.sfreq = sfreq\n",
    "        self.tmin = tmin\n",
    "        self.tmax = tmax\n",
    "        self.erp_dict = {}\n",
    "        self.grand_avg_dict = {}\n",
    "\n",
    "        stim_labels = behav_df[\"Stimulus\"].unique()\n",
    "        self.event_dict = {label: i + 1 for i, label in enumerate(stim_labels)}\n",
    "\n",
    "        # Build marker channel\n",
    "        marker_series = pd.Series(0, index=eeg_df.index)\n",
    "        for i, row in behav_df.iterrows():\n",
    "            ts = row[\"marker_ts\"]\n",
    "            idx = (np.abs(eeg_df[\"timestamps\"] - ts)).idxmin()\n",
    "            marker_series.iloc[idx] = self.event_dict[row[\"Stimulus\"]] \n",
    "\n",
    "        # Build MNE Raw\n",
    "        channels = eeg_df.drop(columns=[\"timestamps\"]).columns.tolist()\n",
    "        eeg_data = eeg_df.drop(columns=\"timestamps\").T.values\n",
    "        eeg_data = np.vstack([eeg_data, marker_series.values[np.newaxis, :]])\n",
    "\n",
    "        info = mne.create_info(ch_names=channels + [\"markers\"], sfreq=sfreq,\n",
    "                               ch_types=[\"eeg\"] * len(channels) + [\"stim\"])\n",
    "        raw = mne.io.RawArray(eeg_data, info)\n",
    "        raw.filter(1, 30)\n",
    "\n",
    "        # Epochs\n",
    "        events = mne.find_events(raw)\n",
    "        epochs = mne.Epochs(raw, events, event_id=self.event_dict, tmin=tmin, tmax=tmax, preload=True)\n",
    "\n",
    "        # Store ERPs\n",
    "        for label in stim_labels:\n",
    "            evoked = epochs[label].average()\n",
    "            self.erp_dict[label] = [evoked]\n",
    "            self.grand_avg_dict[label] = evoked\n",
    "\n",
    "    def plot(self, electrode=\"AF8\", markers=None):\n",
    "        if markers is None:\n",
    "            markers = list(self.erp_dict.keys())\n",
    "\n",
    "        for label in markers:\n",
    "            df = self.grand_avg_dict[label].to_data_frame()\n",
    "            if electrode not in df.columns:\n",
    "                print(f\"⚠️ Electrode '{electrode}' not found in ERP data.\")\n",
    "                continue\n",
    "            plt.plot(df[\"time\"], df[electrode], label=label)\n",
    "\n",
    "        plt.xlabel(\"Time (s)\")\n",
    "        plt.ylabel(\"Amplitude (μV)\")\n",
    "        plt.title(f\"ERP at {electrode}\")\n",
    "        plt.legend()\n",
    "        plt.grid(True)\n",
    "        plt.tight_layout()\n",
    "        plt.show()\n"
   ]
  },
  {
   "cell_type": "code",
   "execution_count": null,
   "id": "bcc8e6fa-acf4-4a4c-a747-7d4aade35d7c",
   "metadata": {},
   "outputs": [],
   "source": [
    "eeg_df = pd.read_csv(\"/Users/username/Desktop/folder/eegfilename.csv\")  #put the file path to your eeg csv here\n",
    "beh_raw = pd.read_csv(\"/Users/username/Desktop/folder/psychopyfilename.csv\") #put the filepath to your psychopy csv here\n",
    "\n",
    "# Convert Unix timestamps (in seconds) to datetime format\n",
    "eeg_df['timestamps'] = pd.to_datetime(eeg_df['timestamps'], unit='s')\n",
    "beh_raw['marker_ts'] = pd.to_datetime(beh_raw['Marker Timestamp'], unit='s')\n"
   ]
  },
  {
   "cell_type": "code",
   "execution_count": null,
   "id": "4a784add-a176-48cf-9dce-4806acc267ca",
   "metadata": {},
   "outputs": [],
   "source": [
    "session = ERPRecording(eeg_df, beh_raw, tmin=-0.3, tmax=1.0)\n"
   ]
  },
  {
   "cell_type": "code",
   "execution_count": null,
   "id": "307a2200-a73c-47d8-935d-70a5fa1343c8",
   "metadata": {},
   "outputs": [],
   "source": [
    "#plot of the AF7 electrode according to Stimulus type\n",
    "conditions = beh_raw[\"Stimulus\"].unique().tolist()\n",
    "session.plot(electrode=\"AF7\", markers=conditions)"
   ]
  },
  {
   "cell_type": "code",
   "execution_count": null,
   "id": "2cbe918c-cf94-4667-b2d8-ffe71eca076c",
   "metadata": {},
   "outputs": [],
   "source": [
    "#plot of the AF8 electrode according to Stimulus type\n",
    "conditions = beh_raw[\"Stimulus\"].unique().tolist()\n",
    "session.plot(electrode=\"AF8\", markers=conditions)"
   ]
  },
  {
   "cell_type": "code",
   "execution_count": null,
   "id": "76b77581-0751-490a-b42c-cdae75c44349",
   "metadata": {},
   "outputs": [],
   "source": [
    "#plot of the TP9 electrode according to Stimulus type\n",
    "conditions = beh_raw[\"Stimulus\"].unique().tolist()\n",
    "session.plot(electrode=\"TP9\", markers=conditions)"
   ]
  },
  {
   "cell_type": "code",
   "execution_count": null,
   "id": "8c5bde87-eb30-431f-9c08-ef593439329e",
   "metadata": {},
   "outputs": [],
   "source": [
    "#plot of the TP10 electrode according to Stimulus type\n",
    "conditions = beh_raw[\"Stimulus\"].unique().tolist()\n",
    "session.plot(electrode=\"TP10\", markers=conditions)"
   ]
  }
 ],
 "metadata": {
  "kernelspec": {
   "display_name": "Python [conda env:base] *",
   "language": "python",
   "name": "conda-base-py"
  },
  "language_info": {
   "codemirror_mode": {
    "name": "ipython",
    "version": 3
   },
   "file_extension": ".py",
   "mimetype": "text/x-python",
   "name": "python",
   "nbconvert_exporter": "python",
   "pygments_lexer": "ipython3",
   "version": "3.11.3"
  }
 },
 "nbformat": 4,
 "nbformat_minor": 5
}
